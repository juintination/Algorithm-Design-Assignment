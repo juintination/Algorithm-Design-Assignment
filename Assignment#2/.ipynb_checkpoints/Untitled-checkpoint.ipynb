{
 "cells": [
  {
   "cell_type": "code",
   "execution_count": 1,
   "id": "c9d90106",
   "metadata": {},
   "outputs": [
    {
     "name": "stdout",
     "output_type": "stream",
     "text": [
      "1 : 1\n",
      "12 : 0\n",
      "123 : 4\n",
      "1235 : 4\n",
      "12356 : 13\n",
      "123568 : 14\n",
      "12358 : 17\n",
      "1236 : 6\n",
      "12368 : 19\n",
      "1238 : 10\n",
      "125 : 8\n",
      "1256 : 10\n",
      "12568 : 21\n",
      "1258 : 14\n",
      "126 : 10\n",
      "1268 : 16\n",
      "128 : 14\n",
      "13 : 2\n",
      "135 : 9\n",
      "1356 : 6\n",
      "13568 : 17\n",
      "1358 : 10\n",
      "136 : 11\n",
      "1368 : 12\n",
      "138 : 15\n",
      "15 : 6\n",
      "156 : 13\n",
      "1568 : 4\n",
      "158 : 17\n",
      "16 : 8\n",
      "168 : 18\n",
      "18 : 12\n",
      "2 : 2\n",
      "23 : -2\n",
      "235 : 5\n",
      "2356 : 2\n",
      "23568 : 13\n",
      "2358 : 6\n",
      "236 : 7\n",
      "2368 : 8\n",
      "238 : 11\n",
      "25 : 2\n",
      "256 : 9\n",
      "2568 : 0\n",
      "258 : 13\n",
      "26 : 4\n",
      "268 : 14\n",
      "28 : 8\n",
      "3 : 3\n",
      "35 : -2\n",
      "356 : 5\n",
      "3568 : -4\n",
      "358 : 9\n",
      "36 : 0\n",
      "368 : 10\n",
      "38 : 4\n",
      "5 : 5\n",
      "56 : -8\n",
      "568 : 2\n",
      "58 : -4\n",
      "6 : 6\n",
      "68 : -8\n",
      "8 : 8\n"
     ]
    },
    {
     "data": {
      "text/plain": [
       "21"
      ]
     },
     "execution_count": 1,
     "metadata": {},
     "output_type": "execute_result"
    }
   ],
   "source": [
    "substring = []\n",
    "\n",
    "def get_all_substrings(s, curr=\"\", i=0):\n",
    "    if i == len(s):\n",
    "        if len(curr) > 0:\n",
    "            substring.append(curr)\n",
    "    else:\n",
    "        get_all_substrings(s, curr + s[i], i + 1)\n",
    "        get_all_substrings(s, curr, i + 1)\n",
    "\n",
    "get_all_substrings('123568')\n",
    "substring = sorted(substring)\n",
    "\n",
    "li = []\n",
    "for item in substring:\n",
    "    if item not in li:\n",
    "        li.append(item)\n",
    "    else:\n",
    "        print('duplicatedItem:', item)\n",
    "\n",
    "def f(x):\n",
    "    lx = len(x) + 1\n",
    "    maxScore, score = 0, 0\n",
    "    for l in li:\n",
    "        score = 0\n",
    "        n = int(len(l) / 2)\n",
    "        if len(l) % 2 == 1:\n",
    "            score += int(l[n])\n",
    "            for i in range(n + 1, len(l)):\n",
    "                if l[i] == l[len(l) - i - 1]:\n",
    "                    score += 2 * int(l[i])\n",
    "                else:\n",
    "                    score += 2 * (max(int(l[i]), int(l[len(l) - i - 1])) - 2 * min(int(l[i]), int(l[len(l) - i - 1])))\n",
    "        else:\n",
    "            for i in range(n, len(l)):\n",
    "                if l[i] == l[len(l) - i - 1]:\n",
    "                    score += 2 * int(l[i])\n",
    "                else:\n",
    "                    score += 2 * (max(int(l[i]), int(l[len(l) - i - 1])) - 2 * min(int(l[i]), int(l[len(l) - i - 1])))\n",
    "        print(l, ':', score)\n",
    "        maxScore = max(maxScore, score)\n",
    "    return maxScore\n",
    "f('123568')"
   ]
  },
  {
   "cell_type": "code",
   "execution_count": 2,
   "id": "65df9cd2",
   "metadata": {},
   "outputs": [
    {
     "name": "stdout",
     "output_type": "stream",
     "text": [
      "[[1, 2, 3, 8, 12, 18], [0, 2, 2, 5, 7, 11], [0, 0, 3, 4, 4, 6], [0, 0, 0, 5, 2, 2], [0, 0, 0, 0, 6, 4], [0, 0, 0, 0, 0, 8]]\n"
     ]
    }
   ],
   "source": [
    "def get_best_substring(x):\n",
    "    n = len(x)\n",
    "    dp = [[0 for i in range(n)] for j in range(n)]\n",
    "    for l in range(1, n+1):\n",
    "        for i in range(n-l+1):\n",
    "            j = i + l - 1\n",
    "            if l == 1:\n",
    "                dp[i][j] = x[i]\n",
    "            else:\n",
    "                if x[i] == x[j]:\n",
    "                    dp[i][j] = x[i] + dp[i+1][j-1]\n",
    "                else:\n",
    "                    dp[i][j] = max(dp[i+1][j], dp[i][j-1]) + max(x[i], x[j]) - 2 * min(x[i], x[j])\n",
    "    return dp\n",
    "\n",
    "\n",
    "s = [1,2,3,5,6,8]\n",
    "print(get_best_substring(s))"
   ]
  },
  {
   "cell_type": "code",
   "execution_count": 3,
   "id": "21c7e3db",
   "metadata": {},
   "outputs": [
    {
     "data": {
      "text/plain": [
       "3"
      ]
     },
     "execution_count": 3,
     "metadata": {},
     "output_type": "execute_result"
    }
   ],
   "source": [
    "def lcs(x, y):\n",
    "    lx, ly = len(x) + 1, len(y) + 1\n",
    "    dp = [[0 for i in range(ly)] for j in range(lx)]\n",
    "    for i in range(1, lx):\n",
    "        for j in range(1, ly):\n",
    "            if x[i - 1] == y[j - 1]:\n",
    "                dp[i][j] = dp[i - 1][j - 1] + 1\n",
    "            else:\n",
    "                dp[i][j] = max(dp[i - 1][j], dp[i][j - 1])\n",
    "    return dp[len(x)][len(y)]\n",
    "lcs('abcde', 'bde')"
   ]
  },
  {
   "cell_type": "code",
   "execution_count": 4,
   "id": "749a0815",
   "metadata": {},
   "outputs": [
    {
     "data": {
      "text/plain": [
       "[[0, 0, 0, 0, 0, 0, 0],\n",
       " [0, 6, 10, 13, 14, 14, 1],\n",
       " [0, 10, 12, 14, 13, 16, 16],\n",
       " [0, 12, 12, 13, 17, 16, 17],\n",
       " [0, 10, 8, 17, 16, 17, 20],\n",
       " [0, 6, 16, 13, 16, 19, 24],\n",
       " [0, 8, 12, 11, 18, 23, 30]]"
      ]
     },
     "execution_count": 4,
     "metadata": {},
     "output_type": "execute_result"
    }
   ],
   "source": [
    "def lcs12(x):\n",
    "    st = []\n",
    "    for i in range(len(x)):\n",
    "        st.append(x[i])\n",
    "    st.reverse()\n",
    "    y = \"\".join(st)\n",
    "    lx, ly = len(x) + 1, len(y) + 1\n",
    "    dp = [[0 for i in range(ly)] for j in range(lx)]\n",
    "    for i in range(1, lx):\n",
    "        for j in range(1, ly):\n",
    "            if x[i - 1] == y[j - 1]:\n",
    "                dp[i][j] = dp[i - 1][j - 1] + int(x[i - 1])\n",
    "            else:\n",
    "                dp[i][j] = max(dp[i - 1][j], dp[i][j - 1]) + max(int(x[i - 1]), int(y[j - 1])) - 2 * min(int(x[i - 1]), int(y[j - 1]))\n",
    "    return dp\n",
    "lcs12('123568')"
   ]
  },
  {
   "cell_type": "code",
   "execution_count": 24,
   "id": "c2f92f96",
   "metadata": {},
   "outputs": [
    {
     "data": {
      "text/plain": [
       "[[-1, -1, -1, -1, -1, -1],\n",
       " [-1, -1, -1, -1, -1, -1],\n",
       " [-1, -1, -1, -1, -1, -1],\n",
       " [-1, -1, -1, -1, -1, -1],\n",
       " [-1, -1, -1, -1, -1, -1],\n",
       " [-1, -1, -1, -1, -1, -1]]"
      ]
     },
     "execution_count": 24,
     "metadata": {},
     "output_type": "execute_result"
    }
   ],
   "source": [
    "x = [1,2,3,5,6,8]\n",
    "dp = [[-1 for i in range(len(x))] for j in range(len(x))]\n",
    "dp"
   ]
  },
  {
   "cell_type": "code",
   "execution_count": 25,
   "id": "771afb60",
   "metadata": {},
   "outputs": [
    {
     "data": {
      "text/plain": [
       "13"
      ]
     },
     "execution_count": 25,
     "metadata": {},
     "output_type": "execute_result"
    }
   ],
   "source": [
    "def f(x):\n",
    "    for i in range(len(x)):\n",
    "        dp[i] = x[i]\n",
    "    for l in range(2, len(x) + 1):\n",
    "        for i in range(len(x) - l + 1):\n",
    "            j = i + l - 1\n",
    "            if x[i] == x[j]:\n",
    "                dp[j] = max(dp[j], dp[i] + 2 * x[i])\n",
    "            else:\n",
    "                dp[j] = max(dp[j], dp[i] + 2 * (max(x[i], x[j]) - 2 * min(x[i], x[j])))\n",
    "    return dp[len(x) - 1]\n",
    "\n",
    "f(x)"
   ]
  },
  {
   "cell_type": "code",
   "execution_count": 26,
   "id": "e43a2b9d",
   "metadata": {},
   "outputs": [
    {
     "data": {
      "text/plain": [
       "[1, 2, 3, 7, 9, 13]"
      ]
     },
     "execution_count": 26,
     "metadata": {},
     "output_type": "execute_result"
    }
   ],
   "source": [
    "dp"
   ]
  },
  {
   "cell_type": "code",
   "execution_count": 56,
   "id": "c722e7c8",
   "metadata": {},
   "outputs": [
    {
     "data": {
      "text/plain": [
       "[[1, -1, -1, -1, -1, 11, -1],\n",
       " [-1, 2, -1, -1, 3, -1, -1],\n",
       " [-1, -1, 3, 3, -1, -1, -1],\n",
       " [-1, -1, -3, 5, -1, -1, -1],\n",
       " [-1, 3, -1, -1, 6, -1, -1],\n",
       " [11, -1, -1, -1, -1, 8, -1],\n",
       " [-1, -1, -1, -1, -1, -1, -1]]"
      ]
     },
     "execution_count": 56,
     "metadata": {},
     "output_type": "execute_result"
    }
   ],
   "source": [
    "def f(x):\n",
    "    dp = [[-1 for i in range(len(x) + 1)] for j in range(len(x) + 1)]\n",
    "    for i in range(len(x)):\n",
    "        dp[i][i] = x[i]\n",
    "    for i in range(len(x)):\n",
    "        j = len(x) - i - 1\n",
    "        if i == j:\n",
    "            print(\"!!!\")\n",
    "        if x[i] == x[j]:\n",
    "            dp[i][j] = dp[i + 1][j - 1] + 2 * x[i]\n",
    "        else:\n",
    "            dp[i][j] = max(dp[i + 1][j], dp[i][j - 1]) + 2 * (max(x[i], x[j]) - 2 * min(x[i], x[j]))\n",
    "    return dp\n",
    "\n",
    "f(x)"
   ]
  },
  {
   "cell_type": "code",
   "execution_count": null,
   "id": "1820b796",
   "metadata": {},
   "outputs": [],
   "source": []
  }
 ],
 "metadata": {
  "kernelspec": {
   "display_name": "Python 3 (ipykernel)",
   "language": "python",
   "name": "python3"
  },
  "language_info": {
   "codemirror_mode": {
    "name": "ipython",
    "version": 3
   },
   "file_extension": ".py",
   "mimetype": "text/x-python",
   "name": "python",
   "nbconvert_exporter": "python",
   "pygments_lexer": "ipython3",
   "version": "3.10.9"
  }
 },
 "nbformat": 4,
 "nbformat_minor": 5
}
